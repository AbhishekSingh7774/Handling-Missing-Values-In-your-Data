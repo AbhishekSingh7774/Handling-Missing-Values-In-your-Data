{
  "cells": [
    {
      "cell_type": "markdown",
      "id": "62703aec-0fb1-4742-babd-11a42252700d",
      "metadata": {
        "id": "62703aec-0fb1-4742-babd-11a42252700d"
      },
      "source": [
        "# Lab 3: Handling Missing Values In your Data"
      ]
    },
    {
      "cell_type": "markdown",
      "id": "0a5e55e8-6507-412b-886a-8f9c5e89395e",
      "metadata": {
        "id": "0a5e55e8-6507-412b-886a-8f9c5e89395e"
      },
      "source": [
        "Machine learning models cannot work with missing values in a dataset (`NaNs` or `'-'`). It is crucial to fix any missing values in your data. The following are 2 ways to deal with missing data:\n",
        "- deleting rows that contain missing features;\n",
        "- replacing missing features using proper techniques."
      ]
    },
    {
      "cell_type": "code",
      "execution_count": 1,
      "id": "9ea116ce-c7e8-436e-84e9-5762c8b4f84b",
      "metadata": {
        "id": "9ea116ce-c7e8-436e-84e9-5762c8b4f84b"
      },
      "outputs": [],
      "source": [
        "#Importing library\n",
        "import pandas as pd\n",
        "import numpy as np\n",
        "import plotly.express as px"
      ]
    },
    {
      "cell_type": "code",
      "execution_count": 2,
      "id": "af1912db-9cc7-4e23-a450-9db13ee5ac69",
      "metadata": {
        "id": "af1912db-9cc7-4e23-a450-9db13ee5ac69"
      },
      "outputs": [],
      "source": [
        "# loading the 'df_1_lab_3.csv' csv data\n",
        "df = pd.read_csv('df_1_lab_3.csv')"
      ]
    },
    {
      "cell_type": "code",
      "execution_count": 3,
      "id": "8844c03b-8ea2-43af-9cdf-701d840149fa",
      "metadata": {
        "id": "8844c03b-8ea2-43af-9cdf-701d840149fa",
        "outputId": "0a3feeb2-12a6-4fcd-c836-5f212cbfa5ea",
        "colab": {
          "base_uri": "https://localhost:8080/",
          "height": 206
        }
      },
      "outputs": [
        {
          "output_type": "execute_result",
          "data": {
            "text/plain": [
              "  Examination Date  Gender  Age Mode           Q        M1        DD Diagnosis\n",
              "0       2011-06-10    male   72    d         NaN  5.058993  1.481877  negative\n",
              "1       2011-02-20    male    9    e  104.087633  6.531724  2.266884  negative\n",
              "2       2011-06-27  female   59    f  102.904315  6.273313  0.396333  positive\n",
              "3       2010-09-22    male   23    g  152.651655  7.333626  0.557534  positive\n",
              "4       2011-07-21  female   17    g   67.239054  3.642516  3.765706  positive"
            ],
            "text/html": [
              "\n",
              "  <div id=\"df-279748f9-f4ad-4fd3-8caf-11120e3633e2\" class=\"colab-df-container\">\n",
              "    <div>\n",
              "<style scoped>\n",
              "    .dataframe tbody tr th:only-of-type {\n",
              "        vertical-align: middle;\n",
              "    }\n",
              "\n",
              "    .dataframe tbody tr th {\n",
              "        vertical-align: top;\n",
              "    }\n",
              "\n",
              "    .dataframe thead th {\n",
              "        text-align: right;\n",
              "    }\n",
              "</style>\n",
              "<table border=\"1\" class=\"dataframe\">\n",
              "  <thead>\n",
              "    <tr style=\"text-align: right;\">\n",
              "      <th></th>\n",
              "      <th>Examination Date</th>\n",
              "      <th>Gender</th>\n",
              "      <th>Age</th>\n",
              "      <th>Mode</th>\n",
              "      <th>Q</th>\n",
              "      <th>M1</th>\n",
              "      <th>DD</th>\n",
              "      <th>Diagnosis</th>\n",
              "    </tr>\n",
              "  </thead>\n",
              "  <tbody>\n",
              "    <tr>\n",
              "      <th>0</th>\n",
              "      <td>2011-06-10</td>\n",
              "      <td>male</td>\n",
              "      <td>72</td>\n",
              "      <td>d</td>\n",
              "      <td>NaN</td>\n",
              "      <td>5.058993</td>\n",
              "      <td>1.481877</td>\n",
              "      <td>negative</td>\n",
              "    </tr>\n",
              "    <tr>\n",
              "      <th>1</th>\n",
              "      <td>2011-02-20</td>\n",
              "      <td>male</td>\n",
              "      <td>9</td>\n",
              "      <td>e</td>\n",
              "      <td>104.087633</td>\n",
              "      <td>6.531724</td>\n",
              "      <td>2.266884</td>\n",
              "      <td>negative</td>\n",
              "    </tr>\n",
              "    <tr>\n",
              "      <th>2</th>\n",
              "      <td>2011-06-27</td>\n",
              "      <td>female</td>\n",
              "      <td>59</td>\n",
              "      <td>f</td>\n",
              "      <td>102.904315</td>\n",
              "      <td>6.273313</td>\n",
              "      <td>0.396333</td>\n",
              "      <td>positive</td>\n",
              "    </tr>\n",
              "    <tr>\n",
              "      <th>3</th>\n",
              "      <td>2010-09-22</td>\n",
              "      <td>male</td>\n",
              "      <td>23</td>\n",
              "      <td>g</td>\n",
              "      <td>152.651655</td>\n",
              "      <td>7.333626</td>\n",
              "      <td>0.557534</td>\n",
              "      <td>positive</td>\n",
              "    </tr>\n",
              "    <tr>\n",
              "      <th>4</th>\n",
              "      <td>2011-07-21</td>\n",
              "      <td>female</td>\n",
              "      <td>17</td>\n",
              "      <td>g</td>\n",
              "      <td>67.239054</td>\n",
              "      <td>3.642516</td>\n",
              "      <td>3.765706</td>\n",
              "      <td>positive</td>\n",
              "    </tr>\n",
              "  </tbody>\n",
              "</table>\n",
              "</div>\n",
              "    <div class=\"colab-df-buttons\">\n",
              "\n",
              "  <div class=\"colab-df-container\">\n",
              "    <button class=\"colab-df-convert\" onclick=\"convertToInteractive('df-279748f9-f4ad-4fd3-8caf-11120e3633e2')\"\n",
              "            title=\"Convert this dataframe to an interactive table.\"\n",
              "            style=\"display:none;\">\n",
              "\n",
              "  <svg xmlns=\"http://www.w3.org/2000/svg\" height=\"24px\" viewBox=\"0 -960 960 960\">\n",
              "    <path d=\"M120-120v-720h720v720H120Zm60-500h600v-160H180v160Zm220 220h160v-160H400v160Zm0 220h160v-160H400v160ZM180-400h160v-160H180v160Zm440 0h160v-160H620v160ZM180-180h160v-160H180v160Zm440 0h160v-160H620v160Z\"/>\n",
              "  </svg>\n",
              "    </button>\n",
              "\n",
              "  <style>\n",
              "    .colab-df-container {\n",
              "      display:flex;\n",
              "      gap: 12px;\n",
              "    }\n",
              "\n",
              "    .colab-df-convert {\n",
              "      background-color: #E8F0FE;\n",
              "      border: none;\n",
              "      border-radius: 50%;\n",
              "      cursor: pointer;\n",
              "      display: none;\n",
              "      fill: #1967D2;\n",
              "      height: 32px;\n",
              "      padding: 0 0 0 0;\n",
              "      width: 32px;\n",
              "    }\n",
              "\n",
              "    .colab-df-convert:hover {\n",
              "      background-color: #E2EBFA;\n",
              "      box-shadow: 0px 1px 2px rgba(60, 64, 67, 0.3), 0px 1px 3px 1px rgba(60, 64, 67, 0.15);\n",
              "      fill: #174EA6;\n",
              "    }\n",
              "\n",
              "    .colab-df-buttons div {\n",
              "      margin-bottom: 4px;\n",
              "    }\n",
              "\n",
              "    [theme=dark] .colab-df-convert {\n",
              "      background-color: #3B4455;\n",
              "      fill: #D2E3FC;\n",
              "    }\n",
              "\n",
              "    [theme=dark] .colab-df-convert:hover {\n",
              "      background-color: #434B5C;\n",
              "      box-shadow: 0px 1px 3px 1px rgba(0, 0, 0, 0.15);\n",
              "      filter: drop-shadow(0px 1px 2px rgba(0, 0, 0, 0.3));\n",
              "      fill: #FFFFFF;\n",
              "    }\n",
              "  </style>\n",
              "\n",
              "    <script>\n",
              "      const buttonEl =\n",
              "        document.querySelector('#df-279748f9-f4ad-4fd3-8caf-11120e3633e2 button.colab-df-convert');\n",
              "      buttonEl.style.display =\n",
              "        google.colab.kernel.accessAllowed ? 'block' : 'none';\n",
              "\n",
              "      async function convertToInteractive(key) {\n",
              "        const element = document.querySelector('#df-279748f9-f4ad-4fd3-8caf-11120e3633e2');\n",
              "        const dataTable =\n",
              "          await google.colab.kernel.invokeFunction('convertToInteractive',\n",
              "                                                    [key], {});\n",
              "        if (!dataTable) return;\n",
              "\n",
              "        const docLinkHtml = 'Like what you see? Visit the ' +\n",
              "          '<a target=\"_blank\" href=https://colab.research.google.com/notebooks/data_table.ipynb>data table notebook</a>'\n",
              "          + ' to learn more about interactive tables.';\n",
              "        element.innerHTML = '';\n",
              "        dataTable['output_type'] = 'display_data';\n",
              "        await google.colab.output.renderOutput(dataTable, element);\n",
              "        const docLink = document.createElement('div');\n",
              "        docLink.innerHTML = docLinkHtml;\n",
              "        element.appendChild(docLink);\n",
              "      }\n",
              "    </script>\n",
              "  </div>\n",
              "\n",
              "\n",
              "<div id=\"df-7307fc4d-5fb2-45a4-92b5-943ae8057d40\">\n",
              "  <button class=\"colab-df-quickchart\" onclick=\"quickchart('df-7307fc4d-5fb2-45a4-92b5-943ae8057d40')\"\n",
              "            title=\"Suggest charts.\"\n",
              "            style=\"display:none;\">\n",
              "\n",
              "<svg xmlns=\"http://www.w3.org/2000/svg\" height=\"24px\"viewBox=\"0 0 24 24\"\n",
              "     width=\"24px\">\n",
              "    <g>\n",
              "        <path d=\"M19 3H5c-1.1 0-2 .9-2 2v14c0 1.1.9 2 2 2h14c1.1 0 2-.9 2-2V5c0-1.1-.9-2-2-2zM9 17H7v-7h2v7zm4 0h-2V7h2v10zm4 0h-2v-4h2v4z\"/>\n",
              "    </g>\n",
              "</svg>\n",
              "  </button>\n",
              "\n",
              "<style>\n",
              "  .colab-df-quickchart {\n",
              "      --bg-color: #E8F0FE;\n",
              "      --fill-color: #1967D2;\n",
              "      --hover-bg-color: #E2EBFA;\n",
              "      --hover-fill-color: #174EA6;\n",
              "      --disabled-fill-color: #AAA;\n",
              "      --disabled-bg-color: #DDD;\n",
              "  }\n",
              "\n",
              "  [theme=dark] .colab-df-quickchart {\n",
              "      --bg-color: #3B4455;\n",
              "      --fill-color: #D2E3FC;\n",
              "      --hover-bg-color: #434B5C;\n",
              "      --hover-fill-color: #FFFFFF;\n",
              "      --disabled-bg-color: #3B4455;\n",
              "      --disabled-fill-color: #666;\n",
              "  }\n",
              "\n",
              "  .colab-df-quickchart {\n",
              "    background-color: var(--bg-color);\n",
              "    border: none;\n",
              "    border-radius: 50%;\n",
              "    cursor: pointer;\n",
              "    display: none;\n",
              "    fill: var(--fill-color);\n",
              "    height: 32px;\n",
              "    padding: 0;\n",
              "    width: 32px;\n",
              "  }\n",
              "\n",
              "  .colab-df-quickchart:hover {\n",
              "    background-color: var(--hover-bg-color);\n",
              "    box-shadow: 0 1px 2px rgba(60, 64, 67, 0.3), 0 1px 3px 1px rgba(60, 64, 67, 0.15);\n",
              "    fill: var(--button-hover-fill-color);\n",
              "  }\n",
              "\n",
              "  .colab-df-quickchart-complete:disabled,\n",
              "  .colab-df-quickchart-complete:disabled:hover {\n",
              "    background-color: var(--disabled-bg-color);\n",
              "    fill: var(--disabled-fill-color);\n",
              "    box-shadow: none;\n",
              "  }\n",
              "\n",
              "  .colab-df-spinner {\n",
              "    border: 2px solid var(--fill-color);\n",
              "    border-color: transparent;\n",
              "    border-bottom-color: var(--fill-color);\n",
              "    animation:\n",
              "      spin 1s steps(1) infinite;\n",
              "  }\n",
              "\n",
              "  @keyframes spin {\n",
              "    0% {\n",
              "      border-color: transparent;\n",
              "      border-bottom-color: var(--fill-color);\n",
              "      border-left-color: var(--fill-color);\n",
              "    }\n",
              "    20% {\n",
              "      border-color: transparent;\n",
              "      border-left-color: var(--fill-color);\n",
              "      border-top-color: var(--fill-color);\n",
              "    }\n",
              "    30% {\n",
              "      border-color: transparent;\n",
              "      border-left-color: var(--fill-color);\n",
              "      border-top-color: var(--fill-color);\n",
              "      border-right-color: var(--fill-color);\n",
              "    }\n",
              "    40% {\n",
              "      border-color: transparent;\n",
              "      border-right-color: var(--fill-color);\n",
              "      border-top-color: var(--fill-color);\n",
              "    }\n",
              "    60% {\n",
              "      border-color: transparent;\n",
              "      border-right-color: var(--fill-color);\n",
              "    }\n",
              "    80% {\n",
              "      border-color: transparent;\n",
              "      border-right-color: var(--fill-color);\n",
              "      border-bottom-color: var(--fill-color);\n",
              "    }\n",
              "    90% {\n",
              "      border-color: transparent;\n",
              "      border-bottom-color: var(--fill-color);\n",
              "    }\n",
              "  }\n",
              "</style>\n",
              "\n",
              "  <script>\n",
              "    async function quickchart(key) {\n",
              "      const quickchartButtonEl =\n",
              "        document.querySelector('#' + key + ' button');\n",
              "      quickchartButtonEl.disabled = true;  // To prevent multiple clicks.\n",
              "      quickchartButtonEl.classList.add('colab-df-spinner');\n",
              "      try {\n",
              "        const charts = await google.colab.kernel.invokeFunction(\n",
              "            'suggestCharts', [key], {});\n",
              "      } catch (error) {\n",
              "        console.error('Error during call to suggestCharts:', error);\n",
              "      }\n",
              "      quickchartButtonEl.classList.remove('colab-df-spinner');\n",
              "      quickchartButtonEl.classList.add('colab-df-quickchart-complete');\n",
              "    }\n",
              "    (() => {\n",
              "      let quickchartButtonEl =\n",
              "        document.querySelector('#df-7307fc4d-5fb2-45a4-92b5-943ae8057d40 button');\n",
              "      quickchartButtonEl.style.display =\n",
              "        google.colab.kernel.accessAllowed ? 'block' : 'none';\n",
              "    })();\n",
              "  </script>\n",
              "</div>\n",
              "    </div>\n",
              "  </div>\n"
            ]
          },
          "metadata": {},
          "execution_count": 3
        }
      ],
      "source": [
        "# preparing data\n",
        "df = df.drop(columns=['Unnamed: 0', 'index'])\n",
        "df.head()"
      ]
    },
    {
      "cell_type": "markdown",
      "id": "7fb2d25f-539f-47ee-ad6d-2ceda0255b14",
      "metadata": {
        "id": "7fb2d25f-539f-47ee-ad6d-2ceda0255b14"
      },
      "source": [
        "# Lab Activity One: Handling Missing Data Without Time-Series Specific Methods"
      ]
    },
    {
      "cell_type": "markdown",
      "id": "d5902c89-2a3e-4402-a6bc-fa35d0e133cd",
      "metadata": {
        "id": "d5902c89-2a3e-4402-a6bc-fa35d0e133cd"
      },
      "source": [
        "#### You will be dealing with `NaN` values for the ``Q`` and ``Mode`` columns. You will go through several ways of handling the missing values. For each method, you will first create a temporary copy of the master dataframe (`df`) to not alter the original dataset."
      ]
    },
    {
      "cell_type": "code",
      "execution_count": 4,
      "id": "2c15052c-daef-46df-8e75-0e88ed3a69e7",
      "metadata": {
        "id": "2c15052c-daef-46df-8e75-0e88ed3a69e7",
        "outputId": "c46a0354-b33c-4d6c-f882-fd88176f0c68",
        "colab": {
          "base_uri": "https://localhost:8080/"
        }
      },
      "outputs": [
        {
          "output_type": "execute_result",
          "data": {
            "text/plain": [
              "9"
            ]
          },
          "metadata": {},
          "execution_count": 4
        }
      ],
      "source": [
        "# Checking how many missing values are in the Q column\n",
        "df[\"Q\"].isnull().sum()"
      ]
    },
    {
      "cell_type": "markdown",
      "id": "bb5aace9-c5e8-40bf-b6cd-71febd6579ce",
      "metadata": {
        "id": "bb5aace9-c5e8-40bf-b6cd-71febd6579ce"
      },
      "source": [
        "##### [A] Drop all the rows which contain `NaN` values in the `'Q'` column. Be sure to only drop the rows with missing values in the `'Q'` column and no other column. Remember to use the `df_temp` dataframe."
      ]
    },
    {
      "cell_type": "code",
      "execution_count": 10,
      "id": "5b2be796-a5cb-496b-9d04-7a0cd10c7b60",
      "metadata": {
        "id": "5b2be796-a5cb-496b-9d04-7a0cd10c7b60"
      },
      "outputs": [],
      "source": [
        "#making copy of the dataset\n",
        "#filling all the missing values in column Q with 0\n",
        "df_temp = df.copy()\n",
        "df_temp['Q'] = df_temp['Q'].fillna(0)"
      ]
    },
    {
      "cell_type": "markdown",
      "id": "b5c677d9-976f-4b41-a5f7-1d84a5191e82",
      "metadata": {
        "id": "b5c677d9-976f-4b41-a5f7-1d84a5191e82"
      },
      "source": [
        "##### [A] Using `df_temp` replace all the `NaN` values in the `'Q'` column with the *mean* of the `'Q'` column."
      ]
    },
    {
      "cell_type": "code",
      "execution_count": 11,
      "id": "a8ad45da-31e4-4cd8-ac94-4a9fdc7e233f",
      "metadata": {
        "id": "a8ad45da-31e4-4cd8-ac94-4a9fdc7e233f"
      },
      "outputs": [],
      "source": [
        "#making copy of the dataset\n",
        "#filling all the missing values in column Q with mean of that column\n",
        "df_temp = df.copy()\n",
        "df_temp['Q'] = df_temp['Q'].fillna(df_temp['Q'].mean())"
      ]
    },
    {
      "cell_type": "markdown",
      "id": "66ff60a0-0d43-4593-9ffb-725823fd87ef",
      "metadata": {
        "id": "66ff60a0-0d43-4593-9ffb-725823fd87ef"
      },
      "source": [
        "##### [A] Using `df_temp` replace all the `NaN` values in the `'Q'` column with the *median* of the `'Q'` column."
      ]
    },
    {
      "cell_type": "code",
      "execution_count": 13,
      "id": "c0fc1eb1-4f31-4099-a4fb-2382e010fb18",
      "metadata": {
        "id": "c0fc1eb1-4f31-4099-a4fb-2382e010fb18"
      },
      "outputs": [],
      "source": [
        "#making copy of the dataset\n",
        "#filling all the missing values in column Q with median of that column\n",
        "df_temp = df.copy()\n",
        "#Like what you did for mean(), use median() instead.\n",
        "df_temp['Q'] = df_temp['Q'].fillna(df['Q'].median())"
      ]
    },
    {
      "cell_type": "markdown",
      "id": "d0a1490a-948c-4a26-9e9a-10548fd67f0c",
      "metadata": {
        "id": "d0a1490a-948c-4a26-9e9a-10548fd67f0c"
      },
      "source": [
        "##### [A] Using `df_temp` replace all the `NaN` values in the `'Q'` column with the *mode* of the `'Q'` column.\n",
        "> Hint: Replace with the mode is trickier that the two previous methods. First see the unique values of column 'Q', then try the mode() fucntion and see the result."
      ]
    },
    {
      "cell_type": "code",
      "execution_count": 14,
      "id": "46f8e08e-7b86-4a44-ab73-8e756c9258d1",
      "metadata": {
        "id": "46f8e08e-7b86-4a44-ab73-8e756c9258d1"
      },
      "outputs": [],
      "source": [
        "#making the copy of the orginial dataset\n",
        "df_temp = df.copy()\n",
        "df_temp['Q'] = df_temp['Q'].fillna(df_temp['Q'].mode()[0], inplace = True)\n",
        "#filling the nan values in the Q column with the mode of the particular column and selecting the first mode that we will get in case their are more than one mode"
      ]
    },
    {
      "cell_type": "markdown",
      "id": "ab847b3b-2fad-426b-9cd7-0718b0da0dc9",
      "metadata": {
        "id": "ab847b3b-2fad-426b-9cd7-0718b0da0dc9"
      },
      "source": [
        "#### Now, you will be dealing with missing values for the `'Mode'` column. This contains categorical values, which are harder to replace with a logical value, unlike numeric (mean, median, mode). Below are the recommended steps for this:\n",
        "- Replace with the most recurring category (similar to mode).\n",
        "- Create a new category called 'missing' and replace with it that.\n",
        "- Replace with a category depending on another feature (requires further data analysis).\n",
        "- Simply delete the rows with missing values."
      ]
    },
    {
      "cell_type": "markdown",
      "id": "ec36868b-80c4-4b77-9b94-f2fa436e2665",
      "metadata": {
        "id": "ec36868b-80c4-4b77-9b94-f2fa436e2665"
      },
      "source": [
        "Note: For our dataset, instead of containing `NaN`s the `'Mode'` column has `'_'` to indicate missing values."
      ]
    },
    {
      "cell_type": "code",
      "execution_count": 15,
      "id": "df3060d1-4e21-4f1a-9c2b-5b89da9e97de",
      "metadata": {
        "id": "df3060d1-4e21-4f1a-9c2b-5b89da9e97de"
      },
      "outputs": [],
      "source": [
        "#making the copy of the orginial dataset\n",
        "df_temp = df.copy()\n"
      ]
    },
    {
      "cell_type": "markdown",
      "id": "51e0bc41-8ec5-4e4f-ba29-153fb2a2bcf2",
      "metadata": {
        "id": "51e0bc41-8ec5-4e4f-ba29-153fb2a2bcf2"
      },
      "source": [
        "##### [A] Using `df_temp`, replace the `'_'` values with the string `'missing'`."
      ]
    },
    {
      "cell_type": "code",
      "execution_count": 21,
      "id": "118d93f6-2a5d-41c9-b086-1393fc41f998",
      "metadata": {
        "id": "118d93f6-2a5d-41c9-b086-1393fc41f998"
      },
      "outputs": [],
      "source": [
        "#replacing the value '_' this with 'missing' in the column 'MODE'\n",
        "df_temp['Mode']= df_temp['Q'].replace({'_':'missing'})"
      ]
    },
    {
      "cell_type": "code",
      "source": [
        "#replacing the value '_' this with 'missing' in the column 'MODE' using mode function and setting the first value to be the mode\n",
        "df_temp = df.copy()\n",
        "df_temp['Mode']= df_temp['Mode'].replace({'_':df_temp['Mode'].mode()[0]})"
      ],
      "metadata": {
        "id": "rYRMvdN4Vibh"
      },
      "id": "rYRMvdN4Vibh",
      "execution_count": 22,
      "outputs": []
    },
    {
      "cell_type": "code",
      "source": [
        "#inspecting the mode column\n",
        "df_temp['Mode'].unique()"
      ],
      "metadata": {
        "colab": {
          "base_uri": "https://localhost:8080/"
        },
        "id": "c8lAAU9YV37A",
        "outputId": "c7fd26a8-2029-48a6-d8a5-59090c1d7b98"
      },
      "id": "c8lAAU9YV37A",
      "execution_count": 23,
      "outputs": [
        {
          "output_type": "execute_result",
          "data": {
            "text/plain": [
              "array(['d', 'e', 'f', 'g', 'h', 'a'], dtype=object)"
            ]
          },
          "metadata": {},
          "execution_count": 23
        }
      ]
    },
    {
      "cell_type": "markdown",
      "id": "07f38b52-1051-4666-a919-a2db198e4602",
      "metadata": {
        "id": "07f38b52-1051-4666-a919-a2db198e4602"
      },
      "source": [
        "# Lab Activity Two: Handling Missing Data With Time-Series Specific Methods"
      ]
    },
    {
      "cell_type": "markdown",
      "id": "a821f7ec-83b7-4d7f-869c-91affe307b57",
      "metadata": {
        "id": "a821f7ec-83b7-4d7f-869c-91affe307b57"
      },
      "source": [
        "The three most popular methods for dealing with time-series data are listed below\n",
        "- **Last Observation Carried Forward (LOCF):** Replacing the missing value with the value in the previous cell\n",
        "- **Next Observation Carried Backward (NOCB):** Replacing the missing value with the value in the next cell\n",
        "- **Linear interpolation:** Replacing missing values with estimates from previous values"
      ]
    },
    {
      "cell_type": "markdown",
      "id": "7e366c77-8954-4560-b0ba-85b5db3fdcaf",
      "metadata": {
        "id": "7e366c77-8954-4560-b0ba-85b5db3fdcaf"
      },
      "source": [
        "##### Preparing the data"
      ]
    },
    {
      "cell_type": "code",
      "execution_count": 24,
      "id": "f1855eb5-0573-41a6-bf3f-9e1e9250f29e",
      "metadata": {
        "id": "f1855eb5-0573-41a6-bf3f-9e1e9250f29e"
      },
      "outputs": [],
      "source": [
        "#Loading data\n",
        "df_2 = pd.read_csv('df_2_lab_3.csv')\n",
        "\n",
        "# Dropping unwated column\n",
        "df_2 = df_2.drop(columns=['Unnamed: 0'])\n",
        "\n",
        "# Change datatype of the date column\n",
        "df_2[\"Inspection Date\"] = pd.to_datetime(df_2[\"Inspection Date\"])\n",
        "\n",
        "# Here we are splitting our dataframe into 2, depend on if the site of device in is clinic 1 or 2\n",
        "df_2_1 = df_2[df_2[\"Device Site\"] == 'clinic1'].copy()\n",
        "df_2_2 = df_2[df_2[\"Device Site\"] == 'clinic2'].copy()\n",
        "#reseting the index so that it will be in a order for both of the datasets that we make from the main one original dataset\n",
        "df_2_1.reset_index(inplace=True, drop=True)\n",
        "df_2_2.reset_index(inplace=True, drop=True)"
      ]
    },
    {
      "cell_type": "code",
      "execution_count": 25,
      "id": "0fd576b1-2ff3-4c64-8779-cb90a894e22f",
      "metadata": {
        "id": "0fd576b1-2ff3-4c64-8779-cb90a894e22f",
        "outputId": "1aa8b4b7-dcda-47b4-992d-136cff1e9174",
        "colab": {
          "base_uri": "https://localhost:8080/",
          "height": 206
        }
      },
      "outputs": [
        {
          "output_type": "execute_result",
          "data": {
            "text/plain": [
              "  Inspection Date        R1        R3 Device Site\n",
              "0      2010-09-04  0.079601  0.542921     clinic1\n",
              "1      2010-09-27       NaN  9.613118     clinic1\n",
              "2      2010-10-06       NaN  4.298943     clinic1\n",
              "3      2010-10-21  0.877617  9.240019     clinic1\n",
              "4      2010-11-26       NaN  6.659528     clinic1"
            ],
            "text/html": [
              "\n",
              "  <div id=\"df-0ba8b364-9e32-4ef4-8321-308baf2b9ee7\" class=\"colab-df-container\">\n",
              "    <div>\n",
              "<style scoped>\n",
              "    .dataframe tbody tr th:only-of-type {\n",
              "        vertical-align: middle;\n",
              "    }\n",
              "\n",
              "    .dataframe tbody tr th {\n",
              "        vertical-align: top;\n",
              "    }\n",
              "\n",
              "    .dataframe thead th {\n",
              "        text-align: right;\n",
              "    }\n",
              "</style>\n",
              "<table border=\"1\" class=\"dataframe\">\n",
              "  <thead>\n",
              "    <tr style=\"text-align: right;\">\n",
              "      <th></th>\n",
              "      <th>Inspection Date</th>\n",
              "      <th>R1</th>\n",
              "      <th>R3</th>\n",
              "      <th>Device Site</th>\n",
              "    </tr>\n",
              "  </thead>\n",
              "  <tbody>\n",
              "    <tr>\n",
              "      <th>0</th>\n",
              "      <td>2010-09-04</td>\n",
              "      <td>0.079601</td>\n",
              "      <td>0.542921</td>\n",
              "      <td>clinic1</td>\n",
              "    </tr>\n",
              "    <tr>\n",
              "      <th>1</th>\n",
              "      <td>2010-09-27</td>\n",
              "      <td>NaN</td>\n",
              "      <td>9.613118</td>\n",
              "      <td>clinic1</td>\n",
              "    </tr>\n",
              "    <tr>\n",
              "      <th>2</th>\n",
              "      <td>2010-10-06</td>\n",
              "      <td>NaN</td>\n",
              "      <td>4.298943</td>\n",
              "      <td>clinic1</td>\n",
              "    </tr>\n",
              "    <tr>\n",
              "      <th>3</th>\n",
              "      <td>2010-10-21</td>\n",
              "      <td>0.877617</td>\n",
              "      <td>9.240019</td>\n",
              "      <td>clinic1</td>\n",
              "    </tr>\n",
              "    <tr>\n",
              "      <th>4</th>\n",
              "      <td>2010-11-26</td>\n",
              "      <td>NaN</td>\n",
              "      <td>6.659528</td>\n",
              "      <td>clinic1</td>\n",
              "    </tr>\n",
              "  </tbody>\n",
              "</table>\n",
              "</div>\n",
              "    <div class=\"colab-df-buttons\">\n",
              "\n",
              "  <div class=\"colab-df-container\">\n",
              "    <button class=\"colab-df-convert\" onclick=\"convertToInteractive('df-0ba8b364-9e32-4ef4-8321-308baf2b9ee7')\"\n",
              "            title=\"Convert this dataframe to an interactive table.\"\n",
              "            style=\"display:none;\">\n",
              "\n",
              "  <svg xmlns=\"http://www.w3.org/2000/svg\" height=\"24px\" viewBox=\"0 -960 960 960\">\n",
              "    <path d=\"M120-120v-720h720v720H120Zm60-500h600v-160H180v160Zm220 220h160v-160H400v160Zm0 220h160v-160H400v160ZM180-400h160v-160H180v160Zm440 0h160v-160H620v160ZM180-180h160v-160H180v160Zm440 0h160v-160H620v160Z\"/>\n",
              "  </svg>\n",
              "    </button>\n",
              "\n",
              "  <style>\n",
              "    .colab-df-container {\n",
              "      display:flex;\n",
              "      gap: 12px;\n",
              "    }\n",
              "\n",
              "    .colab-df-convert {\n",
              "      background-color: #E8F0FE;\n",
              "      border: none;\n",
              "      border-radius: 50%;\n",
              "      cursor: pointer;\n",
              "      display: none;\n",
              "      fill: #1967D2;\n",
              "      height: 32px;\n",
              "      padding: 0 0 0 0;\n",
              "      width: 32px;\n",
              "    }\n",
              "\n",
              "    .colab-df-convert:hover {\n",
              "      background-color: #E2EBFA;\n",
              "      box-shadow: 0px 1px 2px rgba(60, 64, 67, 0.3), 0px 1px 3px 1px rgba(60, 64, 67, 0.15);\n",
              "      fill: #174EA6;\n",
              "    }\n",
              "\n",
              "    .colab-df-buttons div {\n",
              "      margin-bottom: 4px;\n",
              "    }\n",
              "\n",
              "    [theme=dark] .colab-df-convert {\n",
              "      background-color: #3B4455;\n",
              "      fill: #D2E3FC;\n",
              "    }\n",
              "\n",
              "    [theme=dark] .colab-df-convert:hover {\n",
              "      background-color: #434B5C;\n",
              "      box-shadow: 0px 1px 3px 1px rgba(0, 0, 0, 0.15);\n",
              "      filter: drop-shadow(0px 1px 2px rgba(0, 0, 0, 0.3));\n",
              "      fill: #FFFFFF;\n",
              "    }\n",
              "  </style>\n",
              "\n",
              "    <script>\n",
              "      const buttonEl =\n",
              "        document.querySelector('#df-0ba8b364-9e32-4ef4-8321-308baf2b9ee7 button.colab-df-convert');\n",
              "      buttonEl.style.display =\n",
              "        google.colab.kernel.accessAllowed ? 'block' : 'none';\n",
              "\n",
              "      async function convertToInteractive(key) {\n",
              "        const element = document.querySelector('#df-0ba8b364-9e32-4ef4-8321-308baf2b9ee7');\n",
              "        const dataTable =\n",
              "          await google.colab.kernel.invokeFunction('convertToInteractive',\n",
              "                                                    [key], {});\n",
              "        if (!dataTable) return;\n",
              "\n",
              "        const docLinkHtml = 'Like what you see? Visit the ' +\n",
              "          '<a target=\"_blank\" href=https://colab.research.google.com/notebooks/data_table.ipynb>data table notebook</a>'\n",
              "          + ' to learn more about interactive tables.';\n",
              "        element.innerHTML = '';\n",
              "        dataTable['output_type'] = 'display_data';\n",
              "        await google.colab.output.renderOutput(dataTable, element);\n",
              "        const docLink = document.createElement('div');\n",
              "        docLink.innerHTML = docLinkHtml;\n",
              "        element.appendChild(docLink);\n",
              "      }\n",
              "    </script>\n",
              "  </div>\n",
              "\n",
              "\n",
              "<div id=\"df-e956adac-0dbd-4d60-8d21-0ed9dbbb6613\">\n",
              "  <button class=\"colab-df-quickchart\" onclick=\"quickchart('df-e956adac-0dbd-4d60-8d21-0ed9dbbb6613')\"\n",
              "            title=\"Suggest charts.\"\n",
              "            style=\"display:none;\">\n",
              "\n",
              "<svg xmlns=\"http://www.w3.org/2000/svg\" height=\"24px\"viewBox=\"0 0 24 24\"\n",
              "     width=\"24px\">\n",
              "    <g>\n",
              "        <path d=\"M19 3H5c-1.1 0-2 .9-2 2v14c0 1.1.9 2 2 2h14c1.1 0 2-.9 2-2V5c0-1.1-.9-2-2-2zM9 17H7v-7h2v7zm4 0h-2V7h2v10zm4 0h-2v-4h2v4z\"/>\n",
              "    </g>\n",
              "</svg>\n",
              "  </button>\n",
              "\n",
              "<style>\n",
              "  .colab-df-quickchart {\n",
              "      --bg-color: #E8F0FE;\n",
              "      --fill-color: #1967D2;\n",
              "      --hover-bg-color: #E2EBFA;\n",
              "      --hover-fill-color: #174EA6;\n",
              "      --disabled-fill-color: #AAA;\n",
              "      --disabled-bg-color: #DDD;\n",
              "  }\n",
              "\n",
              "  [theme=dark] .colab-df-quickchart {\n",
              "      --bg-color: #3B4455;\n",
              "      --fill-color: #D2E3FC;\n",
              "      --hover-bg-color: #434B5C;\n",
              "      --hover-fill-color: #FFFFFF;\n",
              "      --disabled-bg-color: #3B4455;\n",
              "      --disabled-fill-color: #666;\n",
              "  }\n",
              "\n",
              "  .colab-df-quickchart {\n",
              "    background-color: var(--bg-color);\n",
              "    border: none;\n",
              "    border-radius: 50%;\n",
              "    cursor: pointer;\n",
              "    display: none;\n",
              "    fill: var(--fill-color);\n",
              "    height: 32px;\n",
              "    padding: 0;\n",
              "    width: 32px;\n",
              "  }\n",
              "\n",
              "  .colab-df-quickchart:hover {\n",
              "    background-color: var(--hover-bg-color);\n",
              "    box-shadow: 0 1px 2px rgba(60, 64, 67, 0.3), 0 1px 3px 1px rgba(60, 64, 67, 0.15);\n",
              "    fill: var(--button-hover-fill-color);\n",
              "  }\n",
              "\n",
              "  .colab-df-quickchart-complete:disabled,\n",
              "  .colab-df-quickchart-complete:disabled:hover {\n",
              "    background-color: var(--disabled-bg-color);\n",
              "    fill: var(--disabled-fill-color);\n",
              "    box-shadow: none;\n",
              "  }\n",
              "\n",
              "  .colab-df-spinner {\n",
              "    border: 2px solid var(--fill-color);\n",
              "    border-color: transparent;\n",
              "    border-bottom-color: var(--fill-color);\n",
              "    animation:\n",
              "      spin 1s steps(1) infinite;\n",
              "  }\n",
              "\n",
              "  @keyframes spin {\n",
              "    0% {\n",
              "      border-color: transparent;\n",
              "      border-bottom-color: var(--fill-color);\n",
              "      border-left-color: var(--fill-color);\n",
              "    }\n",
              "    20% {\n",
              "      border-color: transparent;\n",
              "      border-left-color: var(--fill-color);\n",
              "      border-top-color: var(--fill-color);\n",
              "    }\n",
              "    30% {\n",
              "      border-color: transparent;\n",
              "      border-left-color: var(--fill-color);\n",
              "      border-top-color: var(--fill-color);\n",
              "      border-right-color: var(--fill-color);\n",
              "    }\n",
              "    40% {\n",
              "      border-color: transparent;\n",
              "      border-right-color: var(--fill-color);\n",
              "      border-top-color: var(--fill-color);\n",
              "    }\n",
              "    60% {\n",
              "      border-color: transparent;\n",
              "      border-right-color: var(--fill-color);\n",
              "    }\n",
              "    80% {\n",
              "      border-color: transparent;\n",
              "      border-right-color: var(--fill-color);\n",
              "      border-bottom-color: var(--fill-color);\n",
              "    }\n",
              "    90% {\n",
              "      border-color: transparent;\n",
              "      border-bottom-color: var(--fill-color);\n",
              "    }\n",
              "  }\n",
              "</style>\n",
              "\n",
              "  <script>\n",
              "    async function quickchart(key) {\n",
              "      const quickchartButtonEl =\n",
              "        document.querySelector('#' + key + ' button');\n",
              "      quickchartButtonEl.disabled = true;  // To prevent multiple clicks.\n",
              "      quickchartButtonEl.classList.add('colab-df-spinner');\n",
              "      try {\n",
              "        const charts = await google.colab.kernel.invokeFunction(\n",
              "            'suggestCharts', [key], {});\n",
              "      } catch (error) {\n",
              "        console.error('Error during call to suggestCharts:', error);\n",
              "      }\n",
              "      quickchartButtonEl.classList.remove('colab-df-spinner');\n",
              "      quickchartButtonEl.classList.add('colab-df-quickchart-complete');\n",
              "    }\n",
              "    (() => {\n",
              "      let quickchartButtonEl =\n",
              "        document.querySelector('#df-e956adac-0dbd-4d60-8d21-0ed9dbbb6613 button');\n",
              "      quickchartButtonEl.style.display =\n",
              "        google.colab.kernel.accessAllowed ? 'block' : 'none';\n",
              "    })();\n",
              "  </script>\n",
              "</div>\n",
              "    </div>\n",
              "  </div>\n"
            ]
          },
          "metadata": {},
          "execution_count": 25
        }
      ],
      "source": [
        "#showing the first 5 rows of the data set\n",
        "df_2_1.head()"
      ]
    },
    {
      "cell_type": "code",
      "execution_count": 26,
      "id": "c9eae506-2307-4361-9dd6-3fc68fa4e4fd",
      "metadata": {
        "id": "c9eae506-2307-4361-9dd6-3fc68fa4e4fd",
        "outputId": "e904b344-27de-404f-b5ef-2b004395a662",
        "colab": {
          "base_uri": "https://localhost:8080/",
          "height": 206
        }
      },
      "outputs": [
        {
          "output_type": "execute_result",
          "data": {
            "text/plain": [
              "  Inspection Date        R1         R3 Device Site\n",
              "0      2011-01-04  0.927976   5.473454     clinic2\n",
              "1      2011-01-28  0.905114   7.223218     clinic2\n",
              "2      2011-02-04  0.683924   5.047370     clinic2\n",
              "3      2011-02-27  0.622961   1.971804     clinic2\n",
              "4      2011-04-10       NaN  10.822079     clinic2"
            ],
            "text/html": [
              "\n",
              "  <div id=\"df-7cbcfd22-fba2-4406-8d79-96cc369b0e9c\" class=\"colab-df-container\">\n",
              "    <div>\n",
              "<style scoped>\n",
              "    .dataframe tbody tr th:only-of-type {\n",
              "        vertical-align: middle;\n",
              "    }\n",
              "\n",
              "    .dataframe tbody tr th {\n",
              "        vertical-align: top;\n",
              "    }\n",
              "\n",
              "    .dataframe thead th {\n",
              "        text-align: right;\n",
              "    }\n",
              "</style>\n",
              "<table border=\"1\" class=\"dataframe\">\n",
              "  <thead>\n",
              "    <tr style=\"text-align: right;\">\n",
              "      <th></th>\n",
              "      <th>Inspection Date</th>\n",
              "      <th>R1</th>\n",
              "      <th>R3</th>\n",
              "      <th>Device Site</th>\n",
              "    </tr>\n",
              "  </thead>\n",
              "  <tbody>\n",
              "    <tr>\n",
              "      <th>0</th>\n",
              "      <td>2011-01-04</td>\n",
              "      <td>0.927976</td>\n",
              "      <td>5.473454</td>\n",
              "      <td>clinic2</td>\n",
              "    </tr>\n",
              "    <tr>\n",
              "      <th>1</th>\n",
              "      <td>2011-01-28</td>\n",
              "      <td>0.905114</td>\n",
              "      <td>7.223218</td>\n",
              "      <td>clinic2</td>\n",
              "    </tr>\n",
              "    <tr>\n",
              "      <th>2</th>\n",
              "      <td>2011-02-04</td>\n",
              "      <td>0.683924</td>\n",
              "      <td>5.047370</td>\n",
              "      <td>clinic2</td>\n",
              "    </tr>\n",
              "    <tr>\n",
              "      <th>3</th>\n",
              "      <td>2011-02-27</td>\n",
              "      <td>0.622961</td>\n",
              "      <td>1.971804</td>\n",
              "      <td>clinic2</td>\n",
              "    </tr>\n",
              "    <tr>\n",
              "      <th>4</th>\n",
              "      <td>2011-04-10</td>\n",
              "      <td>NaN</td>\n",
              "      <td>10.822079</td>\n",
              "      <td>clinic2</td>\n",
              "    </tr>\n",
              "  </tbody>\n",
              "</table>\n",
              "</div>\n",
              "    <div class=\"colab-df-buttons\">\n",
              "\n",
              "  <div class=\"colab-df-container\">\n",
              "    <button class=\"colab-df-convert\" onclick=\"convertToInteractive('df-7cbcfd22-fba2-4406-8d79-96cc369b0e9c')\"\n",
              "            title=\"Convert this dataframe to an interactive table.\"\n",
              "            style=\"display:none;\">\n",
              "\n",
              "  <svg xmlns=\"http://www.w3.org/2000/svg\" height=\"24px\" viewBox=\"0 -960 960 960\">\n",
              "    <path d=\"M120-120v-720h720v720H120Zm60-500h600v-160H180v160Zm220 220h160v-160H400v160Zm0 220h160v-160H400v160ZM180-400h160v-160H180v160Zm440 0h160v-160H620v160ZM180-180h160v-160H180v160Zm440 0h160v-160H620v160Z\"/>\n",
              "  </svg>\n",
              "    </button>\n",
              "\n",
              "  <style>\n",
              "    .colab-df-container {\n",
              "      display:flex;\n",
              "      gap: 12px;\n",
              "    }\n",
              "\n",
              "    .colab-df-convert {\n",
              "      background-color: #E8F0FE;\n",
              "      border: none;\n",
              "      border-radius: 50%;\n",
              "      cursor: pointer;\n",
              "      display: none;\n",
              "      fill: #1967D2;\n",
              "      height: 32px;\n",
              "      padding: 0 0 0 0;\n",
              "      width: 32px;\n",
              "    }\n",
              "\n",
              "    .colab-df-convert:hover {\n",
              "      background-color: #E2EBFA;\n",
              "      box-shadow: 0px 1px 2px rgba(60, 64, 67, 0.3), 0px 1px 3px 1px rgba(60, 64, 67, 0.15);\n",
              "      fill: #174EA6;\n",
              "    }\n",
              "\n",
              "    .colab-df-buttons div {\n",
              "      margin-bottom: 4px;\n",
              "    }\n",
              "\n",
              "    [theme=dark] .colab-df-convert {\n",
              "      background-color: #3B4455;\n",
              "      fill: #D2E3FC;\n",
              "    }\n",
              "\n",
              "    [theme=dark] .colab-df-convert:hover {\n",
              "      background-color: #434B5C;\n",
              "      box-shadow: 0px 1px 3px 1px rgba(0, 0, 0, 0.15);\n",
              "      filter: drop-shadow(0px 1px 2px rgba(0, 0, 0, 0.3));\n",
              "      fill: #FFFFFF;\n",
              "    }\n",
              "  </style>\n",
              "\n",
              "    <script>\n",
              "      const buttonEl =\n",
              "        document.querySelector('#df-7cbcfd22-fba2-4406-8d79-96cc369b0e9c button.colab-df-convert');\n",
              "      buttonEl.style.display =\n",
              "        google.colab.kernel.accessAllowed ? 'block' : 'none';\n",
              "\n",
              "      async function convertToInteractive(key) {\n",
              "        const element = document.querySelector('#df-7cbcfd22-fba2-4406-8d79-96cc369b0e9c');\n",
              "        const dataTable =\n",
              "          await google.colab.kernel.invokeFunction('convertToInteractive',\n",
              "                                                    [key], {});\n",
              "        if (!dataTable) return;\n",
              "\n",
              "        const docLinkHtml = 'Like what you see? Visit the ' +\n",
              "          '<a target=\"_blank\" href=https://colab.research.google.com/notebooks/data_table.ipynb>data table notebook</a>'\n",
              "          + ' to learn more about interactive tables.';\n",
              "        element.innerHTML = '';\n",
              "        dataTable['output_type'] = 'display_data';\n",
              "        await google.colab.output.renderOutput(dataTable, element);\n",
              "        const docLink = document.createElement('div');\n",
              "        docLink.innerHTML = docLinkHtml;\n",
              "        element.appendChild(docLink);\n",
              "      }\n",
              "    </script>\n",
              "  </div>\n",
              "\n",
              "\n",
              "<div id=\"df-fdd1ea22-8e3c-4710-a536-a19278337785\">\n",
              "  <button class=\"colab-df-quickchart\" onclick=\"quickchart('df-fdd1ea22-8e3c-4710-a536-a19278337785')\"\n",
              "            title=\"Suggest charts.\"\n",
              "            style=\"display:none;\">\n",
              "\n",
              "<svg xmlns=\"http://www.w3.org/2000/svg\" height=\"24px\"viewBox=\"0 0 24 24\"\n",
              "     width=\"24px\">\n",
              "    <g>\n",
              "        <path d=\"M19 3H5c-1.1 0-2 .9-2 2v14c0 1.1.9 2 2 2h14c1.1 0 2-.9 2-2V5c0-1.1-.9-2-2-2zM9 17H7v-7h2v7zm4 0h-2V7h2v10zm4 0h-2v-4h2v4z\"/>\n",
              "    </g>\n",
              "</svg>\n",
              "  </button>\n",
              "\n",
              "<style>\n",
              "  .colab-df-quickchart {\n",
              "      --bg-color: #E8F0FE;\n",
              "      --fill-color: #1967D2;\n",
              "      --hover-bg-color: #E2EBFA;\n",
              "      --hover-fill-color: #174EA6;\n",
              "      --disabled-fill-color: #AAA;\n",
              "      --disabled-bg-color: #DDD;\n",
              "  }\n",
              "\n",
              "  [theme=dark] .colab-df-quickchart {\n",
              "      --bg-color: #3B4455;\n",
              "      --fill-color: #D2E3FC;\n",
              "      --hover-bg-color: #434B5C;\n",
              "      --hover-fill-color: #FFFFFF;\n",
              "      --disabled-bg-color: #3B4455;\n",
              "      --disabled-fill-color: #666;\n",
              "  }\n",
              "\n",
              "  .colab-df-quickchart {\n",
              "    background-color: var(--bg-color);\n",
              "    border: none;\n",
              "    border-radius: 50%;\n",
              "    cursor: pointer;\n",
              "    display: none;\n",
              "    fill: var(--fill-color);\n",
              "    height: 32px;\n",
              "    padding: 0;\n",
              "    width: 32px;\n",
              "  }\n",
              "\n",
              "  .colab-df-quickchart:hover {\n",
              "    background-color: var(--hover-bg-color);\n",
              "    box-shadow: 0 1px 2px rgba(60, 64, 67, 0.3), 0 1px 3px 1px rgba(60, 64, 67, 0.15);\n",
              "    fill: var(--button-hover-fill-color);\n",
              "  }\n",
              "\n",
              "  .colab-df-quickchart-complete:disabled,\n",
              "  .colab-df-quickchart-complete:disabled:hover {\n",
              "    background-color: var(--disabled-bg-color);\n",
              "    fill: var(--disabled-fill-color);\n",
              "    box-shadow: none;\n",
              "  }\n",
              "\n",
              "  .colab-df-spinner {\n",
              "    border: 2px solid var(--fill-color);\n",
              "    border-color: transparent;\n",
              "    border-bottom-color: var(--fill-color);\n",
              "    animation:\n",
              "      spin 1s steps(1) infinite;\n",
              "  }\n",
              "\n",
              "  @keyframes spin {\n",
              "    0% {\n",
              "      border-color: transparent;\n",
              "      border-bottom-color: var(--fill-color);\n",
              "      border-left-color: var(--fill-color);\n",
              "    }\n",
              "    20% {\n",
              "      border-color: transparent;\n",
              "      border-left-color: var(--fill-color);\n",
              "      border-top-color: var(--fill-color);\n",
              "    }\n",
              "    30% {\n",
              "      border-color: transparent;\n",
              "      border-left-color: var(--fill-color);\n",
              "      border-top-color: var(--fill-color);\n",
              "      border-right-color: var(--fill-color);\n",
              "    }\n",
              "    40% {\n",
              "      border-color: transparent;\n",
              "      border-right-color: var(--fill-color);\n",
              "      border-top-color: var(--fill-color);\n",
              "    }\n",
              "    60% {\n",
              "      border-color: transparent;\n",
              "      border-right-color: var(--fill-color);\n",
              "    }\n",
              "    80% {\n",
              "      border-color: transparent;\n",
              "      border-right-color: var(--fill-color);\n",
              "      border-bottom-color: var(--fill-color);\n",
              "    }\n",
              "    90% {\n",
              "      border-color: transparent;\n",
              "      border-bottom-color: var(--fill-color);\n",
              "    }\n",
              "  }\n",
              "</style>\n",
              "\n",
              "  <script>\n",
              "    async function quickchart(key) {\n",
              "      const quickchartButtonEl =\n",
              "        document.querySelector('#' + key + ' button');\n",
              "      quickchartButtonEl.disabled = true;  // To prevent multiple clicks.\n",
              "      quickchartButtonEl.classList.add('colab-df-spinner');\n",
              "      try {\n",
              "        const charts = await google.colab.kernel.invokeFunction(\n",
              "            'suggestCharts', [key], {});\n",
              "      } catch (error) {\n",
              "        console.error('Error during call to suggestCharts:', error);\n",
              "      }\n",
              "      quickchartButtonEl.classList.remove('colab-df-spinner');\n",
              "      quickchartButtonEl.classList.add('colab-df-quickchart-complete');\n",
              "    }\n",
              "    (() => {\n",
              "      let quickchartButtonEl =\n",
              "        document.querySelector('#df-fdd1ea22-8e3c-4710-a536-a19278337785 button');\n",
              "      quickchartButtonEl.style.display =\n",
              "        google.colab.kernel.accessAllowed ? 'block' : 'none';\n",
              "    })();\n",
              "  </script>\n",
              "</div>\n",
              "    </div>\n",
              "  </div>\n"
            ]
          },
          "metadata": {},
          "execution_count": 26
        }
      ],
      "source": [
        "#showing the first 5 rows of the data set\n",
        "df_2_2.head()"
      ]
    },
    {
      "cell_type": "markdown",
      "id": "5c018f11-e786-4e04-b01f-4b87f92c5c67",
      "metadata": {
        "id": "5c018f11-e786-4e04-b01f-4b87f92c5c67"
      },
      "source": [
        "##### Checking for missing values in the `'R1'` column"
      ]
    },
    {
      "cell_type": "code",
      "execution_count": 27,
      "id": "a7f7ae77-dca0-497a-9f18-10fd6d9a1b48",
      "metadata": {
        "id": "a7f7ae77-dca0-497a-9f18-10fd6d9a1b48",
        "outputId": "a5f17f0e-fb65-4693-ca4a-ad7105dfbb33",
        "colab": {
          "base_uri": "https://localhost:8080/"
        }
      },
      "outputs": [
        {
          "output_type": "stream",
          "name": "stdout",
          "text": [
            "4\n",
            "2\n"
          ]
        }
      ],
      "source": [
        "# Checking how many missing values are in the R1 column for both of the dataset that we make from the orginial dataet\n",
        "print(df_2_1[\"R1\"].isnull().sum())\n",
        "print(df_2_2[\"R1\"].isnull().sum())"
      ]
    },
    {
      "cell_type": "markdown",
      "id": "4cc75870-26a0-4bc5-9f48-330fb3bf6139",
      "metadata": {
        "id": "4cc75870-26a0-4bc5-9f48-330fb3bf6139"
      },
      "source": [
        "##### [A] An important first step when using time-series specific methods is to sort the dataset by time (date in our case). Sort both `df_2_1` and `df_2_2` by the `'Inspection Date'` column."
      ]
    },
    {
      "cell_type": "code",
      "execution_count": 28,
      "id": "8cd9b253-6341-4921-a110-e010e190b0f3",
      "metadata": {
        "id": "8cd9b253-6341-4921-a110-e010e190b0f3"
      },
      "outputs": [],
      "source": [
        "#sorting the values of the inspection date column\n",
        "df_2_1.sort_values(by=\"Inspection Date\", inplace=True)\n",
        "#Do the same thing for df_2_2"
      ]
    },
    {
      "cell_type": "code",
      "source": [
        "#sorting the inspection date column using sort function and sort it in ascending order\n",
        "df_2_2.sort_values(by=\"Inspection Date\", inplace=True)"
      ],
      "metadata": {
        "id": "uYcwbhNccI6J"
      },
      "id": "uYcwbhNccI6J",
      "execution_count": 30,
      "outputs": []
    },
    {
      "cell_type": "markdown",
      "id": "7a6d9df0-e6c6-43b4-8ccc-0736da600cb0",
      "metadata": {
        "id": "7a6d9df0-e6c6-43b4-8ccc-0736da600cb0"
      },
      "source": [
        "#### Last Observation Carried Forward (LOCF)"
      ]
    },
    {
      "cell_type": "markdown",
      "id": "9bca7540-ea6f-4371-97d1-fc9c345cf5cd",
      "metadata": {
        "id": "9bca7540-ea6f-4371-97d1-fc9c345cf5cd"
      },
      "source": [
        "##### [A] using `df_temp`, Use LOCF to fill the `NaN` values of the entire `df_2_1 dataset`.\n",
        "\n",
        "> Hint: Use method `fillna` and set the `method` appropriately."
      ]
    },
    {
      "cell_type": "code",
      "execution_count": 31,
      "id": "7afea71c-246f-4b14-9211-d3a046536664",
      "metadata": {
        "id": "7afea71c-246f-4b14-9211-d3a046536664"
      },
      "outputs": [],
      "source": [
        "#making the copy of the original dataset\n",
        "df_temp = df_2_1.copy()\n"
      ]
    },
    {
      "cell_type": "code",
      "source": [
        "#filling the NaN values for the entire dataset using method function\n",
        "# Fill missing values in df_temp with the values from the previous row\n",
        "df_temp = df_temp.fillna(method = 'ffill', inplace = True)\n"
      ],
      "metadata": {
        "id": "Hg83lRuydhAF"
      },
      "id": "Hg83lRuydhAF",
      "execution_count": 32,
      "outputs": []
    },
    {
      "cell_type": "markdown",
      "id": "b32bfc3a-b05d-4b23-8f8f-367471c7e379",
      "metadata": {
        "id": "b32bfc3a-b05d-4b23-8f8f-367471c7e379"
      },
      "source": [
        "#### Next Observation Carried Backward (NOCB)\n",
        "\n"
      ]
    },
    {
      "cell_type": "markdown",
      "id": "026178c2-3a0d-46e4-a87a-c671c8c4f3e1",
      "metadata": {
        "id": "026178c2-3a0d-46e4-a87a-c671c8c4f3e1"
      },
      "source": [
        "##### [A] Using `df_temp`, Use NOCB to fill the `NaN` values of the entire dataset.\n",
        "\n",
        " Hint: Use method `fillna` and set the `method` appropriately."
      ]
    },
    {
      "cell_type": "code",
      "execution_count": 33,
      "id": "2b69b18d-859f-4267-bedf-ef3495c1ed45",
      "metadata": {
        "id": "2b69b18d-859f-4267-bedf-ef3495c1ed45"
      },
      "outputs": [],
      "source": [
        "#making the copy of the original dataset\n",
        "df_temp = df_2_2.copy()\n",
        "\n"
      ]
    },
    {
      "cell_type": "code",
      "source": [
        "#filling the NaN values for the entire dataset using method function\n",
        "# Fill missing values in df_temp with the values from the forward row\n",
        "df_temp = df_temp.fillna(method = 'bfill', inplace = True)\n"
      ],
      "metadata": {
        "id": "PJGwed4metum"
      },
      "id": "PJGwed4metum",
      "execution_count": 34,
      "outputs": []
    },
    {
      "cell_type": "markdown",
      "id": "fd500189-22b1-443b-8120-4f047401d50d",
      "metadata": {
        "id": "fd500189-22b1-443b-8120-4f047401d50d"
      },
      "source": [
        "#### Linear interpolation\n",
        "\n"
      ]
    },
    {
      "cell_type": "markdown",
      "id": "390dbf2f-618c-417a-8e9e-7ba700ae7135",
      "metadata": {
        "id": "390dbf2f-618c-417a-8e9e-7ba700ae7135"
      },
      "source": [
        "##### [A] Using `df_temp`, Use Interpolation to fill the NaN values of the `'R1'` column.\n",
        "> Hint: Set the index of the dataframe to be the inspection column and use the `.interpolate function(method='index)`. Reading documentation of the functions will help you do this."
      ]
    },
    {
      "cell_type": "code",
      "execution_count": 52,
      "id": "53d00b59-8e63-4563-a484-3d721102527e",
      "metadata": {
        "id": "53d00b59-8e63-4563-a484-3d721102527e"
      },
      "outputs": [],
      "source": [
        "#making the copy of the original dataset\n",
        "df_temp = df_2_1.copy()\n"
      ]
    },
    {
      "cell_type": "code",
      "execution_count": 53,
      "id": "08b173d5-0f3e-45cb-bafa-295069f0e0b6",
      "metadata": {
        "id": "08b173d5-0f3e-45cb-bafa-295069f0e0b6"
      },
      "outputs": [],
      "source": [
        "#setting the inspection date column as the index for the dataset\n",
        "df_temp.set_index('Inspection Date',inplace = True)\n",
        "df_temp['R1'].interpolate(method='index',inplace = True)#using linear interpolation to fill the missing values"
      ]
    },
    {
      "cell_type": "code",
      "source": [
        "df_temp.head()"
      ],
      "metadata": {
        "colab": {
          "base_uri": "https://localhost:8080/",
          "height": 237
        },
        "id": "FUCkcde9lX0W",
        "outputId": "466042c1-1b9c-45f4-94a4-2a5674d38199"
      },
      "id": "FUCkcde9lX0W",
      "execution_count": 57,
      "outputs": [
        {
          "output_type": "execute_result",
          "data": {
            "text/plain": [
              "                       R1        R3 Device Site\n",
              "Inspection Date                                \n",
              "2010-09-04       0.079601  0.542921     clinic1\n",
              "2010-09-27       0.470120  9.613118     clinic1\n",
              "2010-10-06       0.622931  4.298943     clinic1\n",
              "2010-10-21       0.877617  9.240019     clinic1\n",
              "2010-11-26       0.761501  6.659528     clinic1"
            ],
            "text/html": [
              "\n",
              "  <div id=\"df-c86da99e-9668-404d-8644-21330953ed31\" class=\"colab-df-container\">\n",
              "    <div>\n",
              "<style scoped>\n",
              "    .dataframe tbody tr th:only-of-type {\n",
              "        vertical-align: middle;\n",
              "    }\n",
              "\n",
              "    .dataframe tbody tr th {\n",
              "        vertical-align: top;\n",
              "    }\n",
              "\n",
              "    .dataframe thead th {\n",
              "        text-align: right;\n",
              "    }\n",
              "</style>\n",
              "<table border=\"1\" class=\"dataframe\">\n",
              "  <thead>\n",
              "    <tr style=\"text-align: right;\">\n",
              "      <th></th>\n",
              "      <th>R1</th>\n",
              "      <th>R3</th>\n",
              "      <th>Device Site</th>\n",
              "    </tr>\n",
              "    <tr>\n",
              "      <th>Inspection Date</th>\n",
              "      <th></th>\n",
              "      <th></th>\n",
              "      <th></th>\n",
              "    </tr>\n",
              "  </thead>\n",
              "  <tbody>\n",
              "    <tr>\n",
              "      <th>2010-09-04</th>\n",
              "      <td>0.079601</td>\n",
              "      <td>0.542921</td>\n",
              "      <td>clinic1</td>\n",
              "    </tr>\n",
              "    <tr>\n",
              "      <th>2010-09-27</th>\n",
              "      <td>0.470120</td>\n",
              "      <td>9.613118</td>\n",
              "      <td>clinic1</td>\n",
              "    </tr>\n",
              "    <tr>\n",
              "      <th>2010-10-06</th>\n",
              "      <td>0.622931</td>\n",
              "      <td>4.298943</td>\n",
              "      <td>clinic1</td>\n",
              "    </tr>\n",
              "    <tr>\n",
              "      <th>2010-10-21</th>\n",
              "      <td>0.877617</td>\n",
              "      <td>9.240019</td>\n",
              "      <td>clinic1</td>\n",
              "    </tr>\n",
              "    <tr>\n",
              "      <th>2010-11-26</th>\n",
              "      <td>0.761501</td>\n",
              "      <td>6.659528</td>\n",
              "      <td>clinic1</td>\n",
              "    </tr>\n",
              "  </tbody>\n",
              "</table>\n",
              "</div>\n",
              "    <div class=\"colab-df-buttons\">\n",
              "\n",
              "  <div class=\"colab-df-container\">\n",
              "    <button class=\"colab-df-convert\" onclick=\"convertToInteractive('df-c86da99e-9668-404d-8644-21330953ed31')\"\n",
              "            title=\"Convert this dataframe to an interactive table.\"\n",
              "            style=\"display:none;\">\n",
              "\n",
              "  <svg xmlns=\"http://www.w3.org/2000/svg\" height=\"24px\" viewBox=\"0 -960 960 960\">\n",
              "    <path d=\"M120-120v-720h720v720H120Zm60-500h600v-160H180v160Zm220 220h160v-160H400v160Zm0 220h160v-160H400v160ZM180-400h160v-160H180v160Zm440 0h160v-160H620v160ZM180-180h160v-160H180v160Zm440 0h160v-160H620v160Z\"/>\n",
              "  </svg>\n",
              "    </button>\n",
              "\n",
              "  <style>\n",
              "    .colab-df-container {\n",
              "      display:flex;\n",
              "      gap: 12px;\n",
              "    }\n",
              "\n",
              "    .colab-df-convert {\n",
              "      background-color: #E8F0FE;\n",
              "      border: none;\n",
              "      border-radius: 50%;\n",
              "      cursor: pointer;\n",
              "      display: none;\n",
              "      fill: #1967D2;\n",
              "      height: 32px;\n",
              "      padding: 0 0 0 0;\n",
              "      width: 32px;\n",
              "    }\n",
              "\n",
              "    .colab-df-convert:hover {\n",
              "      background-color: #E2EBFA;\n",
              "      box-shadow: 0px 1px 2px rgba(60, 64, 67, 0.3), 0px 1px 3px 1px rgba(60, 64, 67, 0.15);\n",
              "      fill: #174EA6;\n",
              "    }\n",
              "\n",
              "    .colab-df-buttons div {\n",
              "      margin-bottom: 4px;\n",
              "    }\n",
              "\n",
              "    [theme=dark] .colab-df-convert {\n",
              "      background-color: #3B4455;\n",
              "      fill: #D2E3FC;\n",
              "    }\n",
              "\n",
              "    [theme=dark] .colab-df-convert:hover {\n",
              "      background-color: #434B5C;\n",
              "      box-shadow: 0px 1px 3px 1px rgba(0, 0, 0, 0.15);\n",
              "      filter: drop-shadow(0px 1px 2px rgba(0, 0, 0, 0.3));\n",
              "      fill: #FFFFFF;\n",
              "    }\n",
              "  </style>\n",
              "\n",
              "    <script>\n",
              "      const buttonEl =\n",
              "        document.querySelector('#df-c86da99e-9668-404d-8644-21330953ed31 button.colab-df-convert');\n",
              "      buttonEl.style.display =\n",
              "        google.colab.kernel.accessAllowed ? 'block' : 'none';\n",
              "\n",
              "      async function convertToInteractive(key) {\n",
              "        const element = document.querySelector('#df-c86da99e-9668-404d-8644-21330953ed31');\n",
              "        const dataTable =\n",
              "          await google.colab.kernel.invokeFunction('convertToInteractive',\n",
              "                                                    [key], {});\n",
              "        if (!dataTable) return;\n",
              "\n",
              "        const docLinkHtml = 'Like what you see? Visit the ' +\n",
              "          '<a target=\"_blank\" href=https://colab.research.google.com/notebooks/data_table.ipynb>data table notebook</a>'\n",
              "          + ' to learn more about interactive tables.';\n",
              "        element.innerHTML = '';\n",
              "        dataTable['output_type'] = 'display_data';\n",
              "        await google.colab.output.renderOutput(dataTable, element);\n",
              "        const docLink = document.createElement('div');\n",
              "        docLink.innerHTML = docLinkHtml;\n",
              "        element.appendChild(docLink);\n",
              "      }\n",
              "    </script>\n",
              "  </div>\n",
              "\n",
              "\n",
              "<div id=\"df-116ef3f0-d171-485c-95f9-3bc0f2927f97\">\n",
              "  <button class=\"colab-df-quickchart\" onclick=\"quickchart('df-116ef3f0-d171-485c-95f9-3bc0f2927f97')\"\n",
              "            title=\"Suggest charts.\"\n",
              "            style=\"display:none;\">\n",
              "\n",
              "<svg xmlns=\"http://www.w3.org/2000/svg\" height=\"24px\"viewBox=\"0 0 24 24\"\n",
              "     width=\"24px\">\n",
              "    <g>\n",
              "        <path d=\"M19 3H5c-1.1 0-2 .9-2 2v14c0 1.1.9 2 2 2h14c1.1 0 2-.9 2-2V5c0-1.1-.9-2-2-2zM9 17H7v-7h2v7zm4 0h-2V7h2v10zm4 0h-2v-4h2v4z\"/>\n",
              "    </g>\n",
              "</svg>\n",
              "  </button>\n",
              "\n",
              "<style>\n",
              "  .colab-df-quickchart {\n",
              "      --bg-color: #E8F0FE;\n",
              "      --fill-color: #1967D2;\n",
              "      --hover-bg-color: #E2EBFA;\n",
              "      --hover-fill-color: #174EA6;\n",
              "      --disabled-fill-color: #AAA;\n",
              "      --disabled-bg-color: #DDD;\n",
              "  }\n",
              "\n",
              "  [theme=dark] .colab-df-quickchart {\n",
              "      --bg-color: #3B4455;\n",
              "      --fill-color: #D2E3FC;\n",
              "      --hover-bg-color: #434B5C;\n",
              "      --hover-fill-color: #FFFFFF;\n",
              "      --disabled-bg-color: #3B4455;\n",
              "      --disabled-fill-color: #666;\n",
              "  }\n",
              "\n",
              "  .colab-df-quickchart {\n",
              "    background-color: var(--bg-color);\n",
              "    border: none;\n",
              "    border-radius: 50%;\n",
              "    cursor: pointer;\n",
              "    display: none;\n",
              "    fill: var(--fill-color);\n",
              "    height: 32px;\n",
              "    padding: 0;\n",
              "    width: 32px;\n",
              "  }\n",
              "\n",
              "  .colab-df-quickchart:hover {\n",
              "    background-color: var(--hover-bg-color);\n",
              "    box-shadow: 0 1px 2px rgba(60, 64, 67, 0.3), 0 1px 3px 1px rgba(60, 64, 67, 0.15);\n",
              "    fill: var(--button-hover-fill-color);\n",
              "  }\n",
              "\n",
              "  .colab-df-quickchart-complete:disabled,\n",
              "  .colab-df-quickchart-complete:disabled:hover {\n",
              "    background-color: var(--disabled-bg-color);\n",
              "    fill: var(--disabled-fill-color);\n",
              "    box-shadow: none;\n",
              "  }\n",
              "\n",
              "  .colab-df-spinner {\n",
              "    border: 2px solid var(--fill-color);\n",
              "    border-color: transparent;\n",
              "    border-bottom-color: var(--fill-color);\n",
              "    animation:\n",
              "      spin 1s steps(1) infinite;\n",
              "  }\n",
              "\n",
              "  @keyframes spin {\n",
              "    0% {\n",
              "      border-color: transparent;\n",
              "      border-bottom-color: var(--fill-color);\n",
              "      border-left-color: var(--fill-color);\n",
              "    }\n",
              "    20% {\n",
              "      border-color: transparent;\n",
              "      border-left-color: var(--fill-color);\n",
              "      border-top-color: var(--fill-color);\n",
              "    }\n",
              "    30% {\n",
              "      border-color: transparent;\n",
              "      border-left-color: var(--fill-color);\n",
              "      border-top-color: var(--fill-color);\n",
              "      border-right-color: var(--fill-color);\n",
              "    }\n",
              "    40% {\n",
              "      border-color: transparent;\n",
              "      border-right-color: var(--fill-color);\n",
              "      border-top-color: var(--fill-color);\n",
              "    }\n",
              "    60% {\n",
              "      border-color: transparent;\n",
              "      border-right-color: var(--fill-color);\n",
              "    }\n",
              "    80% {\n",
              "      border-color: transparent;\n",
              "      border-right-color: var(--fill-color);\n",
              "      border-bottom-color: var(--fill-color);\n",
              "    }\n",
              "    90% {\n",
              "      border-color: transparent;\n",
              "      border-bottom-color: var(--fill-color);\n",
              "    }\n",
              "  }\n",
              "</style>\n",
              "\n",
              "  <script>\n",
              "    async function quickchart(key) {\n",
              "      const quickchartButtonEl =\n",
              "        document.querySelector('#' + key + ' button');\n",
              "      quickchartButtonEl.disabled = true;  // To prevent multiple clicks.\n",
              "      quickchartButtonEl.classList.add('colab-df-spinner');\n",
              "      try {\n",
              "        const charts = await google.colab.kernel.invokeFunction(\n",
              "            'suggestCharts', [key], {});\n",
              "      } catch (error) {\n",
              "        console.error('Error during call to suggestCharts:', error);\n",
              "      }\n",
              "      quickchartButtonEl.classList.remove('colab-df-spinner');\n",
              "      quickchartButtonEl.classList.add('colab-df-quickchart-complete');\n",
              "    }\n",
              "    (() => {\n",
              "      let quickchartButtonEl =\n",
              "        document.querySelector('#df-116ef3f0-d171-485c-95f9-3bc0f2927f97 button');\n",
              "      quickchartButtonEl.style.display =\n",
              "        google.colab.kernel.accessAllowed ? 'block' : 'none';\n",
              "    })();\n",
              "  </script>\n",
              "</div>\n",
              "    </div>\n",
              "  </div>\n"
            ]
          },
          "metadata": {},
          "execution_count": 57
        }
      ]
    },
    {
      "cell_type": "code",
      "source": [
        "# Checking how many missing values are in the R1 column\n",
        "df_temp['R1'].isnull().sum()"
      ],
      "metadata": {
        "colab": {
          "base_uri": "https://localhost:8080/"
        },
        "id": "klIHSmBAhOwm",
        "outputId": "5417e002-5a1f-40f4-f842-15869f89b3a0"
      },
      "id": "klIHSmBAhOwm",
      "execution_count": 54,
      "outputs": [
        {
          "output_type": "execute_result",
          "data": {
            "text/plain": [
              "0"
            ]
          },
          "metadata": {},
          "execution_count": 54
        }
      ]
    }
  ],
  "metadata": {
    "kernelspec": {
      "display_name": "Python 3 (ipykernel)",
      "language": "python",
      "name": "python3"
    },
    "language_info": {
      "codemirror_mode": {
        "name": "ipython",
        "version": 3
      },
      "file_extension": ".py",
      "mimetype": "text/x-python",
      "name": "python",
      "nbconvert_exporter": "python",
      "pygments_lexer": "ipython3",
      "version": "3.9.7"
    },
    "colab": {
      "provenance": []
    }
  },
  "nbformat": 4,
  "nbformat_minor": 5
}